{
 "cells": [
  {
   "cell_type": "markdown",
   "metadata": {},
   "source": [
    "### Imports"
   ]
  },
  {
   "cell_type": "code",
   "execution_count": 1,
   "metadata": {},
   "outputs": [],
   "source": [
    "%load_ext autoreload\n",
    "%autoreload 2"
   ]
  },
  {
   "cell_type": "code",
   "execution_count": 2,
   "metadata": {},
   "outputs": [],
   "source": [
    "import pandas as pd\n",
    "import spotify_mexico.data.load as load"
   ]
  },
  {
   "cell_type": "markdown",
   "metadata": {},
   "source": [
    "### Load data"
   ]
  },
  {
   "cell_type": "code",
   "execution_count": 4,
   "metadata": {},
   "outputs": [],
   "source": [
    "data_processed = load.data_processed"
   ]
  },
  {
   "cell_type": "markdown",
   "metadata": {},
   "source": [
    "### Read data"
   ]
  },
  {
   "cell_type": "code",
   "execution_count": 18,
   "metadata": {},
   "outputs": [],
   "source": [
    "df1 = pd.read_csv(f'{data_processed}/StreamingHistory0.csv')\n",
    "df2 = pd.read_csv(f'{data_processed}/StreamingHistory1.csv')\n",
    "df3 = pd.read_csv(f'{data_processed}/StreamingHistory2.csv')"
   ]
  },
  {
   "cell_type": "code",
   "execution_count": 22,
   "metadata": {},
   "outputs": [
    {
     "name": "stdout",
     "output_type": "stream",
     "text": [
      "(10000, 4) (10000, 4) (376, 4)\n"
     ]
    }
   ],
   "source": [
    "print(df1.shape, df2.shape, df3.shape)"
   ]
  },
  {
   "cell_type": "markdown",
   "metadata": {},
   "source": [
    "### Concatenate dataframes"
   ]
  },
  {
   "cell_type": "code",
   "execution_count": 12,
   "metadata": {},
   "outputs": [
    {
     "data": {
      "text/html": [
       "<div>\n",
       "<style scoped>\n",
       "    .dataframe tbody tr th:only-of-type {\n",
       "        vertical-align: middle;\n",
       "    }\n",
       "\n",
       "    .dataframe tbody tr th {\n",
       "        vertical-align: top;\n",
       "    }\n",
       "\n",
       "    .dataframe thead th {\n",
       "        text-align: right;\n",
       "    }\n",
       "</style>\n",
       "<table border=\"1\" class=\"dataframe\">\n",
       "  <thead>\n",
       "    <tr style=\"text-align: right;\">\n",
       "      <th></th>\n",
       "      <th>endTime</th>\n",
       "      <th>artistName</th>\n",
       "      <th>trackName</th>\n",
       "      <th>msPlayed</th>\n",
       "    </tr>\n",
       "  </thead>\n",
       "  <tbody>\n",
       "    <tr>\n",
       "      <th>0</th>\n",
       "      <td>2020-03-01 08:37</td>\n",
       "      <td>Beyoncé</td>\n",
       "      <td>Baby Boy (feat. Sean Paul)</td>\n",
       "      <td>244866</td>\n",
       "    </tr>\n",
       "    <tr>\n",
       "      <th>1</th>\n",
       "      <td>2020-03-01 08:40</td>\n",
       "      <td>Trey Songz</td>\n",
       "      <td>Hail Mary (feat. Young Jeezy &amp; Lil Wayne)</td>\n",
       "      <td>10078</td>\n",
       "    </tr>\n",
       "    <tr>\n",
       "      <th>2</th>\n",
       "      <td>2021-03-24 13:59</td>\n",
       "      <td>Sam Smith</td>\n",
       "      <td>Diamonds</td>\n",
       "      <td>31444</td>\n",
       "    </tr>\n",
       "    <tr>\n",
       "      <th>3</th>\n",
       "      <td>2021-03-25 22:56</td>\n",
       "      <td>Kali Uchis</td>\n",
       "      <td>la luz(Fín)</td>\n",
       "      <td>107121</td>\n",
       "    </tr>\n",
       "    <tr>\n",
       "      <th>4</th>\n",
       "      <td>2021-03-26 01:12</td>\n",
       "      <td>Sam Smith</td>\n",
       "      <td>Love Is A Losing Game</td>\n",
       "      <td>34676</td>\n",
       "    </tr>\n",
       "    <tr>\n",
       "      <th>...</th>\n",
       "      <td>...</td>\n",
       "      <td>...</td>\n",
       "      <td>...</td>\n",
       "      <td>...</td>\n",
       "    </tr>\n",
       "    <tr>\n",
       "      <th>371</th>\n",
       "      <td>2022-03-26 15:28</td>\n",
       "      <td>Yeah Yeah Yeahs</td>\n",
       "      <td>Heads Will Roll</td>\n",
       "      <td>117997</td>\n",
       "    </tr>\n",
       "    <tr>\n",
       "      <th>372</th>\n",
       "      <td>2022-03-26 15:31</td>\n",
       "      <td>Alex Gaudino</td>\n",
       "      <td>Destination Calabria - Radio Edit</td>\n",
       "      <td>148624</td>\n",
       "    </tr>\n",
       "    <tr>\n",
       "      <th>373</th>\n",
       "      <td>2022-03-26 15:38</td>\n",
       "      <td>Macklemore &amp; Ryan Lewis</td>\n",
       "      <td>Thrift Shop (feat. Wanz)</td>\n",
       "      <td>408466</td>\n",
       "    </tr>\n",
       "    <tr>\n",
       "      <th>374</th>\n",
       "      <td>2022-03-26 15:41</td>\n",
       "      <td>David Guetta</td>\n",
       "      <td>Memories (feat. Kid Cudi)</td>\n",
       "      <td>192045</td>\n",
       "    </tr>\n",
       "    <tr>\n",
       "      <th>375</th>\n",
       "      <td>2022-03-26 15:44</td>\n",
       "      <td>Sean Paul</td>\n",
       "      <td>Temperature</td>\n",
       "      <td>206644</td>\n",
       "    </tr>\n",
       "  </tbody>\n",
       "</table>\n",
       "<p>20376 rows × 4 columns</p>\n",
       "</div>"
      ],
      "text/plain": [
       "              endTime               artistName  \\\n",
       "0    2020-03-01 08:37                  Beyoncé   \n",
       "1    2020-03-01 08:40               Trey Songz   \n",
       "2    2021-03-24 13:59                Sam Smith   \n",
       "3    2021-03-25 22:56               Kali Uchis   \n",
       "4    2021-03-26 01:12                Sam Smith   \n",
       "..                ...                      ...   \n",
       "371  2022-03-26 15:28          Yeah Yeah Yeahs   \n",
       "372  2022-03-26 15:31             Alex Gaudino   \n",
       "373  2022-03-26 15:38  Macklemore & Ryan Lewis   \n",
       "374  2022-03-26 15:41             David Guetta   \n",
       "375  2022-03-26 15:44                Sean Paul   \n",
       "\n",
       "                                     trackName  msPlayed  \n",
       "0                   Baby Boy (feat. Sean Paul)    244866  \n",
       "1    Hail Mary (feat. Young Jeezy & Lil Wayne)     10078  \n",
       "2                                     Diamonds     31444  \n",
       "3                                  la luz(Fín)    107121  \n",
       "4                        Love Is A Losing Game     34676  \n",
       "..                                         ...       ...  \n",
       "371                            Heads Will Roll    117997  \n",
       "372          Destination Calabria - Radio Edit    148624  \n",
       "373                   Thrift Shop (feat. Wanz)    408466  \n",
       "374                  Memories (feat. Kid Cudi)    192045  \n",
       "375                                Temperature    206644  \n",
       "\n",
       "[20376 rows x 4 columns]"
      ]
     },
     "execution_count": 12,
     "metadata": {},
     "output_type": "execute_result"
    }
   ],
   "source": [
    "dfs = [df1, df2, df3]\n",
    "df_spotify = pd.concat(dfs)\n",
    "df_spotify"
   ]
  },
  {
   "cell_type": "markdown",
   "metadata": {},
   "source": [
    "### Save dataframe"
   ]
  },
  {
   "cell_type": "code",
   "execution_count": 27,
   "metadata": {},
   "outputs": [],
   "source": [
    "df_spotify.to_csv(f'{data_processed}/StreamingHistory.csv', index=False)"
   ]
  }
 ],
 "metadata": {
  "interpreter": {
   "hash": "e88c49fb8867135d2fa99f416e40ab06acdf6506d87de7603d1c72dbdad3b4fe"
  },
  "kernelspec": {
   "display_name": "Python 3.8.10 ('spotify_mexico-SxsR5Ehr')",
   "language": "python",
   "name": "python3"
  },
  "language_info": {
   "codemirror_mode": {
    "name": "ipython",
    "version": 3
   },
   "file_extension": ".py",
   "mimetype": "text/x-python",
   "name": "python",
   "nbconvert_exporter": "python",
   "pygments_lexer": "ipython3",
   "version": "3.8.10"
  },
  "orig_nbformat": 4
 },
 "nbformat": 4,
 "nbformat_minor": 2
}
